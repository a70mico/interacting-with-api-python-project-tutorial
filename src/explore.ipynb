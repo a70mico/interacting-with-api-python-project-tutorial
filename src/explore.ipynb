{
 "cells": [
  {
   "cell_type": "markdown",
   "metadata": {},
   "source": [
    "# Explore here"
   ]
  },
  {
   "cell_type": "code",
   "execution_count": 4,
   "metadata": {},
   "outputs": [],
   "source": [
    "import os\n",
    "import pandas as pd\n",
    "import seaborn as sns\n",
    "from dotenv import load_dotenv\n",
    "\n",
    "# load the .env file variables\n",
    "load_dotenv()\n",
    "client_id = os.environ.get('CLIENT_ID')\n",
    "client_secret = os.environ.get('CLIENT_SECRET')\n"
   ]
  },
  {
   "cell_type": "code",
   "execution_count": 7,
   "metadata": {},
   "outputs": [],
   "source": [
    "import spotipy\n",
    "from spotipy.oauth2 import SpotifyClientCredentials\n",
    "\n",
    "sp= spotipy.Spotify(auth_manager = SpotifyClientCredentials(client_id = client_id,\n",
    "                                                              client_secret = client_secret))\n",
    "\n"
   ]
  },
  {
   "cell_type": "code",
   "execution_count": 11,
   "metadata": {},
   "outputs": [
    {
     "name": "stdout",
     "output_type": "stream",
     "text": [
      "Canciones más populares de Mochi:\n",
      "- Stalemate (Duración: 1.24 min, Popularidad: 34)\n",
      "- Taste of Your Love (Duración: 2.15 min, Popularidad: 31)\n",
      "- Maybe I Shouldn't (Duración: 2.09 min, Popularidad: 21)\n",
      "- Monster (Duración: 1.82 min, Popularidad: 20)\n",
      "- bit of u (Duración: 3.35 min, Popularidad: 12)\n",
      "- Thirst (Duración: 1.34 min, Popularidad: 11)\n",
      "- Peach Juice (Duración: 2.69 min, Popularidad: 7)\n",
      "- The Incredible Fly (Duración: 0.99 min, Popularidad: 1)\n",
      "- Don't Close Your Eyes (Duración: 2.74 min, Popularidad: 3)\n",
      "- Alive (Duración: 2.81 min, Popularidad: 3)\n"
     ]
    }
   ],
   "source": [
    "\n",
    "artist_id = \"4mg42TyyXbySg7ivmjPFJp\"\n",
    "\n",
    "# Obtener las canciones más populares del artista\n",
    "response = sp.artist_top_tracks(artist_id)\n",
    "\n",
    "if response:\n",
    "    tracks = response[\"tracks\"]\n",
    "    # Selecciona los datos relevantes para cada canción\n",
    "    tracks = [\n",
    "        {\n",
    "            k: (v / (1000 * 60)) % 60 if k == \"duration_ms\" else v\n",
    "            for k, v in track.items()\n",
    "            if k in [\"name\", \"popularity\", \"duration_ms\"]\n",
    "        }\n",
    "        for track in tracks\n",
    "    ]\n",
    "\n",
    "    # Muestra los resultados\n",
    "    print(\"Canciones más populares de Mochi:\")\n",
    "    for track in tracks:\n",
    "        print(f\"- {track['name']} (Duración: {round(track['duration_ms'], 2)} min, Popularidad: {track['popularity']})\")\n",
    "else:\n",
    "    print(\"No se recibió respuesta de la API de Spotify.\")\n"
   ]
  },
  {
   "cell_type": "code",
   "execution_count": 12,
   "metadata": {},
   "outputs": [
    {
     "name": "stdout",
     "output_type": "stream",
     "text": [
      "   duration_ms                   name  popularity\n",
      "7     0.989683     The Incredible Fly           1\n",
      "8     2.744183  Don't Close Your Eyes           3\n",
      "9     2.811200                  Alive           3\n"
     ]
    }
   ],
   "source": [
    "import pandas as pd\n",
    "\n",
    "tracks_df = pd.DataFrame.from_records(tracks)\n",
    "tracks_df.sort_values([\"popularity\"], inplace = True)\n",
    "\n",
    "print(tracks_df.head(3))"
   ]
  },
  {
   "cell_type": "code",
   "execution_count": 14,
   "metadata": {},
   "outputs": [
    {
     "data": {
      "image/png": "[encoded data removed]",
      "text/plain": [
       "<Figure size 640x480 with 1 Axes>"
      ]
     },
     "metadata": {},
     "output_type": "display_data"
    }
   ],
   "source": [
    "scatter_plot = sns.scatterplot(data = tracks_df, x = \"popularity\", y = \"duration_ms\")\n",
    "fig = scatter_plot.get_figure()\n",
    "fig.savefig(\"scatter_plot.png\")"
   ]
  }
 ],
 "metadata": {
  "kernelspec": {
   "display_name": ".venv",
   "language": "python",
   "name": "python3"
  },
  "language_info": {
   "codemirror_mode": {
    "name": "ipython",
    "version": 3
   },
   "file_extension": ".py",
   "mimetype": "text/x-python",
   "name": "python",
   "nbconvert_exporter": "python",
   "pygments_lexer": "ipython3",
   "version": "3.11.4"
  },
  "orig_nbformat": 4
 },
 "nbformat": 4,
 "nbformat_minor": 2
}
